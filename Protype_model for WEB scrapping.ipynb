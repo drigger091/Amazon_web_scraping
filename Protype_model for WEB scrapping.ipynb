{
 "cells": [
  {
   "cell_type": "code",
   "execution_count": 1,
   "metadata": {},
   "outputs": [],
   "source": [
    "import requests\n",
    "from bs4 import BeautifulSoup\n",
    "import smtplib\n",
    "import time\n",
    "import datetime\n",
    "import json\n",
    "import csv"
   ]
  },
  {
   "cell_type": "markdown",
   "metadata": {},
   "source": [
    "# now we use BeautifulSoup to fetch data from the site"
   ]
  },
  {
   "cell_type": "code",
   "execution_count": 2,
   "metadata": {},
   "outputs": [
    {
     "name": "stdout",
     "output_type": "stream",
     "text": [
      "\n",
      "                   BULLMER Mens Regular Fit Printed Round Neck Cotton Tshirt Pack of 3 - Maroon/Yellow\n",
      "                  \n",
      "\n",
      "                    15 ratings\n",
      "                   \n"
     ]
    }
   ],
   "source": [
    "headers = {\"User-Agent\": \"Mozilla/5.0 (Windows NT 10.0; Win64; x64) AppleWebKit/537.36 (KHTML, like Gecko) Chrome/78.0.3904.108 Safari/537.36\", \"Accept-Encoding\":\"gzip, deflate\", \"Accept\":\"text/html,application/xhtml+xml,application/xml;q=0.9,*/*;q=0.8\", \"DNT\":\"1\",\"Connection\":\"close\", \"Upgrade-Insecure-Requests\":\"1\"}\n",
    "URL = 'https://www.amazon.in/BULLMER-Regular-Printed-Cotton-Tshirt/dp/B0B71W86QX/ref=sr_1_18?keywords=t-shirt+for+men&qid=1663687983&sprefix=t+shirt%2Caps%2C499&sr=8-18'\n",
    "\n",
    "page = requests.get(URL,headers=headers)\n",
    "\n",
    "soup1 = BeautifulSoup(page.content,\"html.parser\")\n",
    "soup2 = BeautifulSoup(soup1.prettify(),'html.parser')\n",
    "title = soup2.find(id = 'productTitle').get_text()\n",
    "\n",
    "\n",
    "customer_review = soup2.find(id ='acrCustomerReviewText').get_text()\n",
    "\n",
    "print(title)\n",
    "print(customer_review)"
   ]
  },
  {
   "cell_type": "markdown",
   "metadata": {},
   "source": [
    "# The results are cleaned and imported to an excel sheet with time stamp"
   ]
  },
  {
   "cell_type": "code",
   "execution_count": 5,
   "metadata": {},
   "outputs": [
    {
     "name": "stdout",
     "output_type": "stream",
     "text": [
      "BULLMER Mens Regular Fit Printed Round Neck Cotton Tshirt Pack of 3 - Maroon/Yellow\n",
      "15 ratings\n",
      "2022-09-21\n"
     ]
    }
   ],
   "source": [
    "#cleaning the files\n",
    "\n",
    "\n",
    "clean_title = title.strip()\n",
    "\n",
    "customer_review = customer_review.strip()\n",
    "print(clean_title)\n",
    "print(customer_review)\n",
    "\n",
    "#importing the data into a csv\n",
    "\n",
    "\n",
    "#time stamping the data\n",
    "\n",
    "today = datetime.date.today()\n",
    "print(today)\n",
    "\n",
    "header = ['Title','Review ratings',\"Date\"]\n",
    "data = [clean_title,customer_review,today]\n",
    "\n",
    "with open ('AmazonscrapedData.csv', 'w',newline='',encoding= 'UTF8') as f:\n",
    "    writer = csv.writer(f)\n",
    "    writer.writerow(header)\n",
    "    writer.writerow(data)"
   ]
  },
  {
   "cell_type": "code",
   "execution_count": 6,
   "metadata": {},
   "outputs": [
    {
     "data": {
      "text/html": [
       "<div>\n",
       "<style scoped>\n",
       "    .dataframe tbody tr th:only-of-type {\n",
       "        vertical-align: middle;\n",
       "    }\n",
       "\n",
       "    .dataframe tbody tr th {\n",
       "        vertical-align: top;\n",
       "    }\n",
       "\n",
       "    .dataframe thead th {\n",
       "        text-align: right;\n",
       "    }\n",
       "</style>\n",
       "<table border=\"1\" class=\"dataframe\">\n",
       "  <thead>\n",
       "    <tr style=\"text-align: right;\">\n",
       "      <th></th>\n",
       "      <th>Title</th>\n",
       "      <th>Review ratings</th>\n",
       "      <th>Date</th>\n",
       "    </tr>\n",
       "  </thead>\n",
       "  <tbody>\n",
       "    <tr>\n",
       "      <th>0</th>\n",
       "      <td>BULLMER Mens Regular Fit Printed Round Neck Co...</td>\n",
       "      <td>15 ratings</td>\n",
       "      <td>2022-09-21</td>\n",
       "    </tr>\n",
       "  </tbody>\n",
       "</table>\n",
       "</div>"
      ],
      "text/plain": [
       "                                               Title Review ratings  \\\n",
       "0  BULLMER Mens Regular Fit Printed Round Neck Co...     15 ratings   \n",
       "\n",
       "         Date  \n",
       "0  2022-09-21  "
      ]
     },
     "execution_count": 6,
     "metadata": {},
     "output_type": "execute_result"
    }
   ],
   "source": [
    "#checking the csv sheet\n",
    "\n",
    "import pandas as pd\n",
    "\n",
    "df = pd.read_csv('AmazonscrapedData.csv')\n",
    "df"
   ]
  },
  {
   "cell_type": "markdown",
   "metadata": {},
   "source": [
    "# then we create a custom function to fetch more data into API and further append them into the CSV file"
   ]
  },
  {
   "cell_type": "code",
   "execution_count": 7,
   "metadata": {},
   "outputs": [],
   "source": [
    "def check_data(URL):\n",
    "    headers = {\"User-Agent\": \"Mozilla/5.0 (Windows NT 10.0; Win64; x64) AppleWebKit/537.36 (KHTML, like Gecko) Chrome/78.0.3904.108 Safari/537.36\", \"Accept-Encoding\":\"gzip, deflate\", \"Accept\":\"text/html,application/xhtml+xml,application/xml;q=0.9,*/*;q=0.8\", \"DNT\":\"1\",\"Connection\":\"close\", \"Upgrade-Insecure-Requests\":\"1\"}\n",
    "    \n",
    "    \n",
    "   \n",
    "\n",
    "    page = requests.get(URL,headers=headers)\n",
    "\n",
    "    soup1 = BeautifulSoup(page.content,\"html.parser\")\n",
    "    soup2 = BeautifulSoup(soup1.prettify(),'html.parser')\n",
    "    title = soup2.find(id = 'productTitle').get_text()\n",
    "    customer_review = soup2.find(id ='acrCustomerReviewText').get_text()\n",
    "    clean_title = title.strip()\n",
    "    customer_review = customer_review.strip()\n",
    "    import datetime\n",
    "    today = datetime.date.today()\n",
    "    data = [clean_title,customer_review,today]\n",
    "    import csv\n",
    "    \n",
    "    \n",
    "\n",
    "\n",
    "    with open ('AmazonscrapedData.csv', 'a+',newline='',encoding= 'UTF8') as f:\n",
    "        writer = csv.writer(f)\n",
    "        writer.writerow(data)\n",
    "\n",
    "\n",
    "\n",
    "\n",
    "#the main function\n",
    "\n",
    "URLS = []\n",
    "\n",
    "n = int(input(\"Number of products:\"))\n",
    "for i in range(0,n):\n",
    "    add = input(\"Enter the product URL:\")\n",
    "    URLS.append(add)\n",
    "\n",
    "#print(URLS)\n",
    "\n",
    "\n",
    "for i in URLS:\n",
    "\n",
    "        check_data(i)\n",
    "\n",
    "\n",
    "\n",
    "\n",
    "#inputting 4 more urls into the URLS list and fetching the information and updating the csv\n",
    "\n"
   ]
  },
  {
   "cell_type": "code",
   "execution_count": 8,
   "metadata": {},
   "outputs": [
    {
     "data": {
      "text/html": [
       "<div>\n",
       "<style scoped>\n",
       "    .dataframe tbody tr th:only-of-type {\n",
       "        vertical-align: middle;\n",
       "    }\n",
       "\n",
       "    .dataframe tbody tr th {\n",
       "        vertical-align: top;\n",
       "    }\n",
       "\n",
       "    .dataframe thead th {\n",
       "        text-align: right;\n",
       "    }\n",
       "</style>\n",
       "<table border=\"1\" class=\"dataframe\">\n",
       "  <thead>\n",
       "    <tr style=\"text-align: right;\">\n",
       "      <th></th>\n",
       "      <th>Title</th>\n",
       "      <th>Review ratings</th>\n",
       "      <th>Date</th>\n",
       "    </tr>\n",
       "  </thead>\n",
       "  <tbody>\n",
       "    <tr>\n",
       "      <th>0</th>\n",
       "      <td>BULLMER Mens Regular Fit Printed Round Neck Co...</td>\n",
       "      <td>15 ratings</td>\n",
       "      <td>2022-09-21</td>\n",
       "    </tr>\n",
       "    <tr>\n",
       "      <th>1</th>\n",
       "      <td>BLIVE Men's Regular Fit Round Neck Printed T-S...</td>\n",
       "      <td>988 ratings</td>\n",
       "      <td>2022-09-21</td>\n",
       "    </tr>\n",
       "    <tr>\n",
       "      <th>2</th>\n",
       "      <td>Puma Men's Regular T-Shirt</td>\n",
       "      <td>8 ratings</td>\n",
       "      <td>2022-09-21</td>\n",
       "    </tr>\n",
       "    <tr>\n",
       "      <th>3</th>\n",
       "      <td>Puma Men's Regular T-Shirt</td>\n",
       "      <td>60 ratings</td>\n",
       "      <td>2022-09-21</td>\n",
       "    </tr>\n",
       "    <tr>\n",
       "      <th>4</th>\n",
       "      <td>Nike Men's Regular fit T-Shirt</td>\n",
       "      <td>180 ratings</td>\n",
       "      <td>2022-09-21</td>\n",
       "    </tr>\n",
       "  </tbody>\n",
       "</table>\n",
       "</div>"
      ],
      "text/plain": [
       "                                               Title Review ratings  \\\n",
       "0  BULLMER Mens Regular Fit Printed Round Neck Co...     15 ratings   \n",
       "1  BLIVE Men's Regular Fit Round Neck Printed T-S...    988 ratings   \n",
       "2                         Puma Men's Regular T-Shirt      8 ratings   \n",
       "3                         Puma Men's Regular T-Shirt     60 ratings   \n",
       "4                     Nike Men's Regular fit T-Shirt    180 ratings   \n",
       "\n",
       "         Date  \n",
       "0  2022-09-21  \n",
       "1  2022-09-21  \n",
       "2  2022-09-21  \n",
       "3  2022-09-21  \n",
       "4  2022-09-21  "
      ]
     },
     "execution_count": 8,
     "metadata": {},
     "output_type": "execute_result"
    }
   ],
   "source": [
    "#checking the updated CSV\n",
    "df = pd.read_csv('AmazonscrapedData.csv')\n",
    "df"
   ]
  },
  {
   "cell_type": "code",
   "execution_count": null,
   "metadata": {},
   "outputs": [],
   "source": []
  }
 ],
 "metadata": {
  "kernelspec": {
   "display_name": "Python 3.10.7 64-bit (microsoft store)",
   "language": "python",
   "name": "python3"
  },
  "language_info": {
   "codemirror_mode": {
    "name": "ipython",
    "version": 3
   },
   "file_extension": ".py",
   "mimetype": "text/x-python",
   "name": "python",
   "nbconvert_exporter": "python",
   "pygments_lexer": "ipython3",
   "version": "3.10.7"
  },
  "orig_nbformat": 4,
  "vscode": {
   "interpreter": {
    "hash": "00ab0c96a4010d88df09b2badbfa6c7366287254f707ccc0dc2e798515ac13e8"
   }
  }
 },
 "nbformat": 4,
 "nbformat_minor": 2
}
